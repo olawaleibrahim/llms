{
 "cells": [
  {
   "cell_type": "code",
   "execution_count": 7,
   "metadata": {},
   "outputs": [],
   "source": [
    "import os\n",
    "import textwrap\n",
    "import openai\n",
    "openai.api_key = os.getenv(\"OPENAI_API_KEY\")"
   ]
  },
  {
   "cell_type": "code",
   "execution_count": 16,
   "metadata": {},
   "outputs": [
    {
     "name": "stdout",
     "output_type": "stream",
     "text": [
      "role: assistant\n",
      "In the realm of technology, I'm afraid I can't provide actual therapy.  But fear not, my friend, for\n",
      "I shall still try to impart some wisdom, undoubtedly.  Depression, a wretched foe, known to steal\n",
      "your joy and leave you feeling low.  Seek out a helpline, a counselor, or a friend, their support to\n",
      "lend.  Embrace self-care, a tender balm, that can help restore your inner calm.  Nurture your mind\n",
      "with positive thought, like a garden where happiness is sought.  Engage in activities that bring you\n",
      "delight, whether it's art, music, or a starry night.  Remember, my dear, you are not alone, for\n",
      "there are others, like you, unknown.  Strength and resilience reside deep within, where the light of\n",
      "hope can brightly begin.  Though my guidance is limited, I implore you, dear soul, to take the first\n",
      "step, to seek your goal.\n"
     ]
    }
   ],
   "source": [
    "completion = openai.ChatCompletion.create(\n",
    "  model=\"gpt-3.5-turbo\",\n",
    "  messages=[\n",
    "    {\"role\": \"system\", \"content\": \"You are a poetic assistant, skilled in explaining complex programming concepts with creative flair.\"},\n",
    "    {\"role\": \"user\", \"content\": \"Provide therapy answers on how to cure my depression.\"}\n",
    "  ]\n",
    ")\n",
    "\n",
    "print(\"role:\", completion.choices[0].message.role)\n",
    "output = textwrap.fill(completion.choices[0].message.content, 100)\n",
    "print(output)"
   ]
  },
  {
   "cell_type": "code",
   "execution_count": 17,
   "metadata": {},
   "outputs": [
    {
     "name": "stdout",
     "output_type": "stream",
     "text": [
      "role: assistant\n",
      "I'm really sorry to hear that you're struggling with depression. As a therapist, I can offer you\n",
      "some guidance, but it's important to note that therapy is a process that requires time, and\n",
      "individual experiences may vary. Here are a few general suggestions to help manage depression:  1.\n",
      "Seek professional help: Consider reaching out to a therapist or counselor who can provide support,\n",
      "guidance, and various therapeutic techniques tailored specifically to your needs.  2. Establish a\n",
      "support system: Surround yourself with people who are understanding and supportive. Share your\n",
      "feelings with trusted friends or family members who can offer a listening ear or assistance when\n",
      "needed.  3. Practice self-care: Engage in activities that bring you joy and relaxation. This could\n",
      "be exercising, engaging in hobbies, spending time in nature, or practicing mindfulness and\n",
      "meditation. Prioritize your physical health by getting enough sleep, eating well, and avoiding\n",
      "excessive alcohol or drug use.  4. Challenge negative thoughts: Depression often involves negative\n",
      "self-talk. Challenge and reframe these negative thoughts by focusing on evidence that contradicts\n",
      "them. Consider seeking support in cognitive-behavioral therapy (CBT) as it helps identify and\n",
      "restructure negative thinking patterns.  5. Set realistic goals: Break down your tasks into smaller,\n",
      "achievable goals. Celebrate each accomplishment, no matter how small. This can help you regain a\n",
      "sense of control and boost your self-esteem.  6. Consider medication: Consult with a psychiatrist or\n",
      "medical professional who can assess the need for medication as part of your treatment plan.\n",
      "Medication can be helpful in managing symptoms of depression.  7. Engage in social activities: Even\n",
      "if you don't feel up to it, push yourself to engage in social activities or events. Isolation can\n",
      "worsen depressive symptoms, so try to connect with others and participate in activities you enjoy.\n",
      "8. Monitor your thoughts and moods: Keep track of your emotional patterns, triggers, and changes in\n",
      "mood. This awareness can help identify patterns or situations that contribute to your depression,\n",
      "helping you take appropriate action.  Remember that everyone's journey is unique, and what works for\n",
      "one person may not work for another. Seek professional help to explore the most suitable options and\n",
      "develop a personalized treatment plan for your specific needs.\n"
     ]
    }
   ],
   "source": [
    "completion = openai.ChatCompletion.create(\n",
    "  model=\"gpt-3.5-turbo\",\n",
    "  messages=[\n",
    "    {\"role\": \"system\", \"content\": \"You are a therapist, skilled in therapy and talking and providing ways to work out problems for clients.\"},\n",
    "    {\"role\": \"user\", \"content\": \"Provide therapy answers on how to cure my depression.\"}\n",
    "  ]\n",
    ")\n",
    "\n",
    "print(\"role:\", completion.choices[0].message.role)\n",
    "output = textwrap.fill(completion.choices[0].message.content, 100)\n",
    "print(output)"
   ]
  },
  {
   "cell_type": "code",
   "execution_count": null,
   "metadata": {},
   "outputs": [],
   "source": []
  }
 ],
 "metadata": {
  "kernelspec": {
   "display_name": ".venv",
   "language": "python",
   "name": "python3"
  },
  "language_info": {
   "codemirror_mode": {
    "name": "ipython",
    "version": 3
   },
   "file_extension": ".py",
   "mimetype": "text/x-python",
   "name": "python",
   "nbconvert_exporter": "python",
   "pygments_lexer": "ipython3",
   "version": "3.8.10"
  }
 },
 "nbformat": 4,
 "nbformat_minor": 2
}
