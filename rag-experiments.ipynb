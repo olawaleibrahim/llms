{
 "cells": [
  {
   "cell_type": "code",
   "execution_count": 1,
   "metadata": {},
   "outputs": [],
   "source": [
    "import json\n",
    "import os\n",
    "os.environ[\"CUDA_VISIBLE_DEVICES\"] = \"0\"\n",
    "os.environ[\"WORLD_SIZE\"] = \"1\""
   ]
  },
  {
   "cell_type": "code",
   "execution_count": 2,
   "metadata": {},
   "outputs": [],
   "source": [
    "from IPython.display import display\n",
    "import ipywidgets as widgets\n",
    "from llama_index.core import (\n",
    "    VectorStoreIndex,\n",
    "    SimpleDirectoryReader,\n",
    "    StorageContext,\n",
    "    load_index_from_storage\n",
    ")\n",
    "from llama_index.embeddings.huggingface import HuggingFaceEmbedding\n",
    "from llama_index.core.node_parser import SentenceSplitter\n",
    "from llama_index.llms.groq import Groq\n",
    "from llama_index.core import Settings\n",
    "import warnings\n",
    "import os"
   ]
  },
  {
   "cell_type": "code",
   "execution_count": 3,
   "metadata": {},
   "outputs": [],
   "source": [
    "!pip freeze > requirements.txt"
   ]
  },
  {
   "cell_type": "code",
   "execution_count": 3,
   "metadata": {},
   "outputs": [],
   "source": [
    "warnings.filterwarnings('ignore')\n",
    "\n",
    "\n",
    "GROQ_API_KEY = os.getenv(\"GROQ_API_KEY\")\n",
    "\n",
    "prompt_template = \"\"\"\n",
    "Use the following pieces of information to answer the user's question.\n",
    "If you don't know the answer, just say that you don't know, don't try to make up an answer.\n",
    "\n",
    "Context: {context}\n",
    "Question: {question}\n",
    "\n",
    "Answer the question and provide additional helpful information,\n",
    "based on the pieces of information, if applicable. Be succinct.\n",
    "\n",
    "Responses should be properly formatted to be easily read.\n",
    "\"\"\""
   ]
  },
  {
   "cell_type": "code",
   "execution_count": null,
   "metadata": {},
   "outputs": [],
   "source": [
    "context = \"This directory contains multiple academic documents on large language models (llms) and NLP research\"\n",
    "\n",
    "# Data ingestion: load all files from a directory\n",
    "directory_path = \"/home/olawale/Desktop/PROJECTS/llms/data/input/\"  # Update this with your directory path\n",
    "reader = SimpleDirectoryReader(input_dir=directory_path)\n",
    "documents = reader.load_data()\n",
    "\n",
    "# Split the documents into nodes\n",
    "text_splitter = SentenceSplitter(chunk_size=1024, chunk_overlap=200)\n",
    "nodes = text_splitter.get_nodes_from_documents(documents, show_progress=True)"
   ]
  },
  {
   "cell_type": "code",
   "execution_count": null,
   "metadata": {},
   "outputs": [],
   "source": [
    "embed_model = HuggingFaceEmbedding(model_name=\"sentence-transformers/all-MiniLM-L6-v2\")\n",
    "llm = Groq(model=\"llama3-70b-8192\", api_key=GROQ_API_KEY)\n",
    "Settings.llm = llm\n",
    "Settings.embed_model = embed_model\n",
    "vector_index = VectorStoreIndex.from_documents(documents, show_progress=True, node_parser=nodes)\n",
    "vector_index.storage_context.persist(persist_dir=\"./storage_mini\")\n",
    "storage_context = StorageContext.from_defaults(persist_dir=\"./storage_mini\")\n",
    "index = load_index_from_storage(storage_context)"
   ]
  },
  {
   "cell_type": "code",
   "execution_count": null,
   "metadata": {},
   "outputs": [],
   "source": [
    "input_box = widgets.Text(\n",
    "    value='Summarise the Self-Rag paper: Learning to Retrieve, Generate, and Critique through Self-Reflection',\n",
    "    placeholder='Type your question here',\n",
    "    description='Question:',\n",
    "    disabled=False\n",
    ")\n",
    "\n",
    "output_area = widgets.Output()\n",
    "\n",
    "def on_button_click(b):\n",
    "    with output_area:\n",
    "        output_area.clear_output()\n",
    "        question = input_box.value\n",
    "        query_prompt = prompt_template.format(context=context, question=question)\n",
    "        response_text = query_engine.query(query_prompt).response\n",
    "        words = response_text.split()  # Split response into words\n",
    "        words_per_line = 15  # Number of words per line\n",
    "        formatted_lines = [\n",
    "            \" \".join(words[i:i+words_per_line]) \n",
    "            for i in range(0, len(words), words_per_line)\n",
    "        ]\n",
    "        \n",
    "        for line in formatted_lines:\n",
    "            print(line)\n",
    "\n",
    "\n",
    "button = widgets.Button(\n",
    "    description='Ask',\n",
    "    disabled=False,\n",
    "    button_style='',\n",
    "    tooltip='Ask the question',\n",
    "    icon='check'\n",
    ")\n",
    "\n",
    "button.on_click(on_button_click)\n",
    "\n",
    "display(input_box, button, output_area)\n",
    "\n",
    "# Set up query engine\n",
    "query_engine = index.as_query_engine()"
   ]
  },
  {
   "cell_type": "code",
   "execution_count": 7,
   "metadata": {},
   "outputs": [],
   "source": [
    "query_prompt = \"How does the SEyjLF-RAG model generazfgsdfhjkdgfte tegyuoxt with rjkleflection tokens to evalgyuouate the utigyuolity of retrieval\"\n",
    "response_text = query_engine.query(query_prompt).response"
   ]
  },
  {
   "cell_type": "code",
   "execution_count": null,
   "metadata": {},
   "outputs": [],
   "source": [
    "# answer = response_text.split(\"\\n\")\n",
    "answer = response_text\n",
    "answer"
   ]
  },
  {
   "cell_type": "code",
   "execution_count": null,
   "metadata": {},
   "outputs": [],
   "source": [
    "keyword_prompt = \"Respond without any suffix answer, only listing the keywords in this: \" + answer\n",
    "keyword_text = query_engine.query(keyword_prompt).response\n",
    "keyword_text"
   ]
  },
  {
   "cell_type": "code",
   "execution_count": null,
   "metadata": {},
   "outputs": [],
   "source": []
  },
  {
   "cell_type": "code",
   "execution_count": null,
   "metadata": {},
   "outputs": [],
   "source": [
    "len(answer)"
   ]
  },
  {
   "cell_type": "code",
   "execution_count": null,
   "metadata": {},
   "outputs": [],
   "source": [
    "[sentence[3:] for sentence in answer[1:]]"
   ]
  },
  {
   "cell_type": "markdown",
   "metadata": {},
   "source": [
    "Retrieval-Augmented Generation for Large\n",
    "Language Models: A Survey\n",
    "\n",
    "\n",
    "provide 20 different prompts that explains the self rag paper"
   ]
  },
  {
   "cell_type": "code",
   "execution_count": 16,
   "metadata": {},
   "outputs": [],
   "source": [
    "prompt = '''Geophysics is the study of the Earth's internal and external physical processes using quantitative methods. It is an interdisciplinary field that combines principles from geology, physics, mathematics, and engineering to understand the Earth's structure, composition, and dynamics.\n",
    "\n",
    "Geophysicists use a wide range of techniques, including seismic, gravitational, magnetic, and electrical methods, to investigate the Earth's interior, crust, and atmosphere. They analyze data from various sources, such as:\n",
    "\n",
    "1. Seismic waves generated by earthquakes or artificial sources, which provide information about the Earth's internal structure and composition.\n",
    "2. Gravity measurements, which help determine the distribution of mass within the Earth.\n",
    "3. Magnetic field measurements, which reveal the Earth's internal magnetic field and its variations.\n",
    "4. Electrical and electromagnetic measurements, which provide information about the Earth's electrical conductivity and subsurface structures.\n",
    "\n",
    "Geophysics has many applications in various fields, including:\n",
    "\n",
    "1. **Oil and gas exploration**: Geophysicists use seismic and other methods to locate subsurface hydrocarbon reservoirs and identify potential drilling sites.\n",
    "2. **Earthquake seismology**: Geophysicists study seismic waves to understand earthquake mechanisms, locate epicenters, and assess seismic hazards.\n",
    "3. **Environmental monitoring**: Geophysicists use electrical and electromagnetic methods to monitor groundwater contamination, track contaminant plumes, and detect subsurface pollutants.\n",
    "4. **Climate change research**: Geophysicists study the Earth's magnetic field, paleomagnetism, and geothermal heat flow to understand the Earth's climate history and predict future changes.\n",
    "5. **Natural resource management**: Geophysicists help locate and manage groundwater resources, mineral deposits, and geothermal energy sources.\n",
    "6. **Geotechnical engineering**: Geophysicists use geophysical methods to investigate soil and rock properties, assess landslide risks, and design foundations for buildings and infrastructure.\n",
    "7. **Planetary science**: Geophysicists study the internal structure and composition of other planets and moons in our solar system, providing insights into their formation and evolution.\n",
    "\n",
    "Some of the key areas of research in geophysics include:\n",
    "\n",
    "1. **Seismology**: The study of seismic waves and their applications in understanding the Earth's internal structure and earthquake processes.\n",
    "2. **Gravity and magnetic fields**: The study of the Earth's gravitational and magnetic fields, which provide insights into the Earth's internal structure and composition.\n",
    "3. **Electromagnetic methods**: The study of electrical and electromagnetic properties of the Earth's subsurface, which help identify subsurface structures and monitor environmental changes.\n",
    "4. **Geodynamics**: The study of the Earth's internal dynamics, including plate tectonics, mantle convection, and the Earth's magnetic field.\n",
    "5. **Planetary geophysics**: The study of the internal structure and composition of other planets and moons in our solar system.\n",
    "\n",
    "Overall, geophysics is a vital field that helps us understand the Earth's internal and external processes, which is essential for addressing various environmental, economic, and societal challenges.'''"
   ]
  },
  {
   "cell_type": "code",
   "execution_count": null,
   "metadata": {},
   "outputs": [],
   "source": [
    "response_groq = llm.complete(f\"List key points in this response using singlular words: {prompt}\")\n",
    "print(response_groq)"
   ]
  },
  {
   "cell_type": "code",
   "execution_count": null,
   "metadata": {},
   "outputs": [],
   "source": [
    "!pip install matplotlib"
   ]
  },
  {
   "cell_type": "code",
   "execution_count": null,
   "metadata": {},
   "outputs": [],
   "source": [
    "import fitz  # PyMuPDF\n",
    "import matplotlib.pyplot as plt\n",
    "from PIL import Image\n",
    "import io\n",
    "\n",
    "def extract_images_from_pdf(pdf_path):\n",
    "    images = []\n",
    "    # Open the PDF\n",
    "    pdf_document = fitz.open(pdf_path)\n",
    "\n",
    "    for page_num in range(len(pdf_document)):\n",
    "        page = pdf_document[page_num]\n",
    "        image_list = page.get_images(full=True)\n",
    "\n",
    "        for img_index, img in enumerate(image_list):\n",
    "            xref = img[0]\n",
    "            # Extract image bytes\n",
    "            base_image = pdf_document.extract_image(xref)\n",
    "            image_bytes = base_image[\"image\"]\n",
    "            image = Image.open(io.BytesIO(image_bytes))\n",
    "            images.append((page_num, img_index, image))\n",
    "\n",
    "    pdf_document.close()\n",
    "    return images\n",
    "\n",
    "def plot_images(images):\n",
    "    for page_num, img_index, img in images:\n",
    "        plt.figure(figsize=(8, 6))\n",
    "        plt.title(f\"Page {page_num + 1}, Image {img_index + 1}\")\n",
    "        plt.imshow(img)\n",
    "        plt.axis('off')\n",
    "        plt.show()\n",
    "\n",
    "# Specify the PDF file path\n",
    "pdf_path = \"/home/olawale/Desktop/PROJECTS/llms/beyond-abstracts/data/upload/2312.10997v5.pdf\"\n",
    "\n",
    "# Extract and plot images\n",
    "extracted_images = extract_images_from_pdf(pdf_path)\n",
    "plot_images(extracted_images)"
   ]
  },
  {
   "cell_type": "code",
   "execution_count": null,
   "metadata": {},
   "outputs": [],
   "source": [
    "import dash\n",
    "import dash_cytoscape as cyto\n",
    "import dash_html_components as html\n",
    "\n",
    "app = dash.Dash(__name__)\n",
    "\n",
    "default_stylesheet = [\n",
    "    {\n",
    "        \"selector\": \"node\",\n",
    "        \"style\": {\n",
    "            \"width\": \"mapData(size, 0, 100, 20, 60)\",\n",
    "            \"height\": \"mapData(size, 0, 100, 20, 60)\",\n",
    "            \"content\": \"data(label)\",\n",
    "            \"font-size\": \"12px\",\n",
    "            \"text-valign\": \"center\",\n",
    "            \"text-halign\": \"center\",\n",
    "        }\n",
    "    }\n",
    "]\n",
    "\n",
    "\n",
    "# default_stylesheet = [{\n",
    "#     'selector': 'node',\n",
    "#     'style': {\n",
    "#         'label': 'data(label)',\n",
    "#         \"background-fill\": \"radial-gradient\",\n",
    "#         \"background-gradient-stop-colors\": 'data(background_color)',\n",
    "#         \"background-gradient-stop-positions\": '0, 80, 90, 100',\n",
    "#         'color': 'data(color)',\n",
    "#         'text-valign': 'center',\n",
    "#         'text-halign': 'center',\n",
    "#         'font-size': 'data(font_size)',\n",
    "#         'border-color': 'data(border_color)',\n",
    "#         'border-width': 1.5,\n",
    "#         \"border-opacity\": 1,\n",
    "#         'width': 'data(size)',\n",
    "#         'height': 'data(size)',\n",
    "#         'opacity': 0.98\n",
    "#     }\n",
    "# }, {\n",
    "#     'selector': 'edge',\n",
    "#     'style': {\n",
    "#         \"line-fill\": \"linear-gradient\",\n",
    "#         \"line-gradient-stop-colors\": 'data(colors)',\n",
    "#         \"line-gradient-stop-positions\": \"10, 20, 30, 40, 50, 60, 70, 80, 90\",\n",
    "#         'width': 2.5,\n",
    "#         'curve-style': 'bezier',\n",
    "#         'source-endpoint': 'outside-to-node',\n",
    "#         'target-endpoint': 'outside-to-node'\n",
    "#     }\n",
    "# }]\n",
    "\n",
    "app.layout = html.Div([\n",
    "    cyto.Cytoscape(\n",
    "        id=\"cytospace\",\n",
    "        elements=[\n",
    "            {'data': {'id': 'one', 'label': 'Node 1', 'size': 40}, 'position': {'x': 50, 'y': 50}},\n",
    "            {'data': {'id': 'two', 'label': 'Node 2', 'size': 100}, 'position': {'x': 200, 'y': 200}},\n",
    "            {'data': {'id': 'three', 'label': 'Node 3', 'size': 10}, 'position': {'x': 100, 'y': 100}},\n",
    "            {'data': {'id': 'four', 'label': 'Node 4', 'size': 300}, 'position': {'x': 160, 'y': 50}},\n",
    "            {'data': {'id': 'five', 'label': 'Node 5', 'size': 200}, 'position': {'x': 200, 'y': 100}},\n",
    "            {'data': {'source': 'one', 'target': 'two','label': 'Node 1 to 2'}},\n",
    "            {'data': {'source': 'one', 'target': 'four','label': 'Node 1 to 2'}}\n",
    "        ],\n",
    "        layout={'name':'preset'},\n",
    "        stylesheet=default_stylesheet\n",
    "    )\n",
    "])\n",
    "\n",
    "if __name__ == \"__main__\":\n",
    "    app.run_server(debug=True)"
   ]
  },
  {
   "cell_type": "code",
   "execution_count": null,
   "metadata": {},
   "outputs": [],
   "source": [
    "from qdrant_client import QdrantClient\n",
    "\n",
    "qdrant_client = QdrantClient(\n",
    "    url=\"https://77aa90d2-b4ac-4ef7-b373-47587d0de30d.eu-central-1-0.aws.cloud.qdrant.io:6333\", \n",
    "    api_key=\"kNn8H63GLggXx6hwgHXoOWvKwnAajt784uOBOu54Ub6NLV0hWuVuOg\",\n",
    ")\n",
    "\n",
    "print(qdrant_client.get_collections())"
   ]
  },
  {
   "cell_type": "code",
   "execution_count": null,
   "metadata": {},
   "outputs": [],
   "source": []
  }
 ],
 "metadata": {
  "kernelspec": {
   "display_name": "llm-venv",
   "language": "python",
   "name": "python3"
  },
  "language_info": {
   "codemirror_mode": {
    "name": "ipython",
    "version": 3
   },
   "file_extension": ".py",
   "mimetype": "text/x-python",
   "name": "python",
   "nbconvert_exporter": "python",
   "pygments_lexer": "ipython3",
   "version": "3.11.11"
  }
 },
 "nbformat": 4,
 "nbformat_minor": 2
}
